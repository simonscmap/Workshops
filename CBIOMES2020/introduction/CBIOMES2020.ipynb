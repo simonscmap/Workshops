{
 "cells": [
  {
   "cell_type": "markdown",
   "metadata": {},
   "source": [
    "![](https://github.com/simonscmap/pycmap/blob/master/docs/figures/CMAP.png?raw=true)"
   ]
  },
  {
   "cell_type": "markdown",
   "metadata": {},
   "source": [
    "*Mohammad Dehghani Ashkezari <mdehghan@uw.edu>* \n",
    "\n",
    "*Ginger Armbrust*\n",
    "\n",
    "*Raphael Hagen*\n",
    "\n",
    "*Michael Denholtz*"
   ]
  },
  {
   "cell_type": "markdown",
   "metadata": {},
   "source": [
    "<a href=\"https://colab.research.google.com/github/simonscmap/Workshops/blob/master/CBIOMES2020/introduction/CBIOMES2020.ipynb\"><img align=\"left\" src=\"https://colab.research.google.com/assets/colab-badge.svg\" alt=\"Open in Colab\" title=\"Open and Execute in Google Colaboratory\">"
   ]
  },
  {
   "cell_type": "markdown",
   "metadata": {},
   "source": [
    "<a class=\"anchor\" id=\"toc\"></a>\n",
    "\n",
    "## Table of Contents:\n",
    "* [Installation](#installation)\n",
    "* [**Data Retrieval (selected methods)**](#dataRetrieval)\n",
    "    * [API](#api) \n",
    "    * [Catalog](#catalog)\n",
    "    * [Search Catalog](#searchCatalog)\n",
    "    * [Variable Unit](#varUnit)\n",
    "    * [If Column Exists](#hasField)\n",
    "    * [Variable Summary Statistics](#varStat)\n",
    "    * [Variable Coverage](#varCoverage)\n",
    "    * [Subset by Space-Time](#spaceTime)\n",
    "    * [Query](#query)\n"
   ]
  },
  {
   "cell_type": "markdown",
   "metadata": {},
   "source": [
    "<a class=\"anchor\" id=\"dataRetrieval\"></a>\n",
    "<br/><br/><br/><br/><br/><br/><br/><br/>\n",
    "<center>\n",
    "<h1> API: Data Retrieval </h1>\n",
    "</center>\n",
    "A selected list of Simons CMAP API methods are listed below. \n",
    "<br/>Please visit the <a href=https://cmap.readthedocs.io/en/latest/user_guide/API_ref/pycmap_api/pycmap_data_retrieval.html#dataret>documentations</a> for more information.  \n",
    "<br/><br/><br/><br/><br/><br/><br/><br/>"
   ]
  },
  {
   "cell_type": "code",
   "execution_count": null,
   "metadata": {},
   "outputs": [],
   "source": [
    "# enable intellisense\n",
    "%config IPCompleter.greedy=True"
   ]
  },
  {
   "cell_type": "markdown",
   "metadata": {},
   "source": [
    "<a class=\"anchor\" id=\"installation\"></a> \n",
    "<a href=\"#toc\" style=\"float: right;\">Table of Contents</a>\n",
    "## Installation\n",
    "pycmap can be installed using *pip*: \n",
    "<br />`pip install pycmap`\n",
    "\n",
    "In order to use pycmap, you will need to obtain an API key from SimonsCMAP website:\n",
    "<a href=\"https://simonscmap.com\">https://simonscmap.com</a>.\n",
    "\n",
    "### Note:\n",
    "You may install pycmap on cloud-based jupyter notebooks (such as [Colab](https://colab.research.google.com/)) by running the following command in a code-block: \n",
    "<br />`!pip install pycmap`"
   ]
  },
  {
   "cell_type": "code",
   "execution_count": null,
   "metadata": {},
   "outputs": [],
   "source": [
    "# !pip install pycmap -q    #uncomment to install pycmap on Colab\n",
    "import pycmap\n",
    "pycmap.__version__"
   ]
  },
  {
   "cell_type": "markdown",
   "metadata": {},
   "source": [
    "<a class=\"anchor\" id=\"api\"></a>\n",
    "<a href=\"#toc\" style=\"float: right;\">Table of Contents</a>\n",
    "## [*API( )*](https://cmap.readthedocs.io/en/latest/user_guide/API_ref/pycmap_api/pycmap_api.html#pycmapapi)\n",
    "To retrieve data, we need to create an instance of the system's API and pass the API key. It is not necessary to pass the API key every time you run pycmap, because the key will be stored locally. The API class has other optional parameters to adjust its behavior. All parameters can be updated persistently at any point in the code.\n",
    "\n",
    "Register at https://simonscmap.com and get and API key, if you haven't already."
   ]
  },
  {
   "cell_type": "code",
   "execution_count": null,
   "metadata": {},
   "outputs": [],
   "source": [
    "api = pycmap.API()"
   ]
  },
  {
   "cell_type": "markdown",
   "metadata": {},
   "source": [
    "<a class=\"anchor\" id=\"catalog\"></a>\n",
    "<a href=\"#toc\" style=\"float: right;\">Table of Contents</a>\n",
    "## [*get_catalog()*](https://cmap.readthedocs.io/en/latest/user_guide/API_ref/pycmap_api/pycmap_catalog.html#getcatalog)\n",
    "\n",
    "Returns a dataframe containing the details of all variables at Simons CMAP database. \n",
    "<br />This method requires no input."
   ]
  },
  {
   "cell_type": "code",
   "execution_count": null,
   "metadata": {},
   "outputs": [],
   "source": [
    "api.get_catalog()"
   ]
  },
  {
   "cell_type": "markdown",
   "metadata": {},
   "source": [
    "<a class=\"anchor\" id=\"searchCatalog\"></a>\n",
    "<a href=\"#toc\" style=\"float: right;\">Table of Contents</a>\n",
    "## [*search_catalog(keywords)*](https://cmap.readthedocs.io/en/latest/user_guide/API_ref/pycmap_api/pycmap_search_catalog.html#searchcatalog)\n",
    "\n",
    "\n",
    "Returns a dataframe containing a subset of Simons CMAP catalog of variables. \n",
    "\n",
    "All variables at Simons CMAP catalog are annotated with a collection of semantically related keywords. This method takes the passed keywords and returns all of the variables annotated with similar keywords. The passed keywords should be separated by blank space. The search result is not sensitive to the order of keywords and is not case sensitive. The passed keywords can provide any 'hint' associated with the target variables. Below are a few examples: \n",
    "\n",
    "* the exact variable name (e.g. NO3), or its linguistic term (Nitrate) \n",
    "* methodology (model, satellite ...), instrument (CTD, seaflow), or disciplines (physics, biology ...) \n",
    "* the cruise official name (e.g. KOK1606), or unofficial cruise name (Falkor) \n",
    "* the name of data producer (e.g Penny Chisholm) or institution name (MIT) \n",
    "\n",
    "<br />If you searched for a variable with semantically-related-keywords and did not get the correct results, please let us know. We can update the keywords at any point.\n"
   ]
  },
  {
   "cell_type": "markdown",
   "metadata": {},
   "source": [
    "### Example:\n",
    "Returns a list of variables annotated by the keywords `prochlorococcus` and `abundance`."
   ]
  },
  {
   "cell_type": "code",
   "execution_count": null,
   "metadata": {},
   "outputs": [],
   "source": [
    "api.search_catalog('prochlorococcus abundance')"
   ]
  },
  {
   "cell_type": "markdown",
   "metadata": {},
   "source": [
    "<a class=\"anchor\" id=\"varUnit\"></a>\n",
    "<a href=\"#toc\" style=\"float: right;\">Table of Contents</a>\n",
    "## [*get_unit(tableName, varName)*](https://cmap.readthedocs.io/en/latest/user_guide/API_ref/pycmap_api/data_retrieval/pycmap_variable_unit.html#var-unit)\n",
    "\n",
    "Returns the unit for a given variable, if applicable.\n",
    "\n",
    "\n",
    "> **Parameters:** \n",
    ">> **tableName: string**\n",
    ">>  <br />The name of table associated with the dataset. A full list of table names can be found in the [Data Catalog](https://cmap.readthedocs.io/en/latest/user_guide/API_ref/pycmap_api/data_retrieval/pycmap_catalog.html).\n",
    ">> <br />\n",
    ">> <br />**varName: string**\n",
    ">>  <br />Variable short name. A full list of variable short names can be found in the [Data Catalog](https://cmap.readthedocs.io/en/latest/user_guide/API_ref/pycmap_api/data_retrieval/pycmap_catalog.html).\n",
    ">> <br />\n",
    "\n",
    "\n",
    ">**Returns:** \n",
    ">>  Pandas dataframe.\n",
    "\n"
   ]
  },
  {
   "cell_type": "markdown",
   "metadata": {},
   "source": [
    "### Example:\n",
    "Returns the unit of the short name variable, silica_hot, in the HOT Particle Flux dataset."
   ]
  },
  {
   "cell_type": "code",
   "execution_count": null,
   "metadata": {},
   "outputs": [],
   "source": [
    "api.get_unit('tblHOT_ParticleFlux', 'silica_hot')"
   ]
  },
  {
   "cell_type": "markdown",
   "metadata": {},
   "source": [
    "<a class=\"anchor\" id=\"hasField\"></a>\n",
    "<a href=\"#toc\" style=\"float: right;\">Table of Contents</a>\n",
    "## [*has_field(tableName, varName)*](https://cmap.readthedocs.io/en/latest/user_guide/API_ref/pycmap_api/data_retrieval/pycmap_has_field.html)\n",
    "\n",
    "Returns True if the specified column (field) exists in the table; otherwise returns False.\n",
    "\n",
    "> **Parameters:** \n",
    ">> **tableName: string**\n",
    ">>  <br />The name of table associated with the dataset. A full list of table names can be found in the [Data Catalog](https://cmap.readthedocs.io/en/latest/user_guide/API_ref/pycmap_api/data_retrieval/pycmap_catalog.html).\n",
    ">> <br />\n",
    ">> <br />**varName: string**\n",
    ">>  <br />Variable short name. A full list of variable short names can be found in the [Data Catalog](https://cmap.readthedocs.io/en/latest/user_guide/API_ref/pycmap_api/data_retrieval/pycmap_catalog.html).\n",
    ">> <br />\n",
    "\n",
    "\n",
    ">**Returns:** \n",
    ">>  boolean"
   ]
  },
  {
   "cell_type": "markdown",
   "metadata": {},
   "source": [
    "### Example:\n",
    "Checks if the table `tblAltimetry_REP` has a `depth` field."
   ]
  },
  {
   "cell_type": "code",
   "execution_count": null,
   "metadata": {},
   "outputs": [],
   "source": [
    "api.has_field('tblAltimetry_REP', 'depth')"
   ]
  },
  {
   "cell_type": "markdown",
   "metadata": {},
   "source": [
    "<a class=\"anchor\" id=\"varStat\"></a>\n",
    "<a href=\"#toc\" style=\"float: right;\">Table of Contents</a>\n",
    "## [*get_var_stat(tableName, varName)*](https://cmap.readthedocs.io/en/latest/user_guide/API_ref/pycmap_api/data_retrieval/pycmap_var_stat.html)\n",
    "\n",
    "Returns summary statistics involving the min, max, mean, standard deviation, count, and quantiles for the given variable.\n",
    "\n",
    "> **Parameters:** \n",
    ">> **tableName: string**\n",
    ">>  <br />The name of table associated with the dataset. A full list of table names can be found in the [Data Catalog](https://cmap.readthedocs.io/en/latest/user_guide/API_ref/pycmap_api/data_retrieval/pycmap_catalog.html).\n",
    ">> <br />\n",
    ">> <br />**varName: string**\n",
    ">>  <br />Variable short name. A full list of variable short names can be found in the [Data Catalog](https://cmap.readthedocs.io/en/latest/user_guide/API_ref/pycmap_api/data_retrieval/pycmap_catalog.html).\n",
    ">> <br />\n",
    "\n",
    "\n",
    ">**Returns:** \n",
    ">>  Pandas dataframe."
   ]
  },
  {
   "cell_type": "markdown",
   "metadata": {},
   "source": [
    "### Example:\n",
    "Returns summary statistics for the short name variable, Prochlorococcus, in the HOT LAVA Cruise dataset."
   ]
  },
  {
   "cell_type": "code",
   "execution_count": null,
   "metadata": {},
   "outputs": [],
   "source": [
    "api.get_var_stat('tblHOT_LAVA', 'Prochlorococcus')"
   ]
  },
  {
   "cell_type": "markdown",
   "metadata": {},
   "source": [
    "<a class=\"anchor\" id=\"varCoverage\"></a>\n",
    "<a href=\"#toc\" style=\"float: right;\">Table of Contents</a>\n",
    "## [*get_var_coverage(tableName, varName)*](https://cmap.readthedocs.io/en/latest/user_guide/API_ref/pycmap_api/data_retrieval/pycmap_var_coverage.html)\n",
    "\n",
    "Returns spatial and temporal coverage of the given variable.\n",
    "\n",
    "> **Parameters:** \n",
    ">> **tableName: string**\n",
    ">>  <br />The name of table associated with the dataset. A full list of table names can be found in the [Data Catalog](https://cmap.readthedocs.io/en/latest/user_guide/API_ref/pycmap_api/data_retrieval/pycmap_catalog.html).\n",
    ">> <br />\n",
    ">> <br />**varName: string**\n",
    ">>  <br />Variable short name. A full list of variable short names can be found in the [Data Catalog](https://cmap.readthedocs.io/en/latest/user_guide/API_ref/pycmap_api/data_retrieval/pycmap_catalog.html).\n",
    ">> <br />\n",
    "\n",
    "\n",
    ">**Returns:** \n",
    ">>  Pandas dataframe."
   ]
  },
  {
   "cell_type": "markdown",
   "metadata": {},
   "source": [
    "### Example:\n",
    "Returns the spatial and temporal coverage range of `picoprokaryote` in `tblDarwin_Phytoplankton` table."
   ]
  },
  {
   "cell_type": "code",
   "execution_count": null,
   "metadata": {},
   "outputs": [],
   "source": [
    "api.get_var_coverage('tblDarwin_Phytoplankton', 'picoprokaryote')"
   ]
  },
  {
   "cell_type": "markdown",
   "metadata": {},
   "source": [
    "<a class=\"anchor\" id=\"spaceTime\"></a>\n",
    "<a href=\"#toc\" style=\"float: right;\">Table of Contents</a>\n",
    "## [*space_time(table, variable, dt1, dt2, lat1, lat2, lon1, lon2, depth1, depth2)*](https://cmap.readthedocs.io/en/latest/user_guide/API_ref/pycmap_api/pycmap_subset_ST.html#subset-st)\n",
    "\n",
    "Returns a subset of data according to the specified space-time constraints (dt1, dt2, lat1, lat2, lon1, lon2, depth1, depth2).\n",
    "<br />The results are ordered by time, lat, lon, and depth (if exists), respectively."
   ]
  },
  {
   "cell_type": "markdown",
   "metadata": {},
   "source": [
    "> **Parameters:** \n",
    ">> **table: string**\n",
    ">>  <br />Table name (each dataset is stored in a table). A full list of table names can be found in [catalog](https://cmap.readthedocs.io/en/latest/user_guide/API_ref/pycmap_api/pycmap_catalog.html#getcatalog).\n",
    ">> <br />\n",
    ">> <br />**variable: string**\n",
    ">>  <br />Variable short name which directly corresponds to a field name in the table. A subset of this variable is returned by this method according to the spatio-temporal cut parameters (below). Pass **'\\*'** wild card to retrieve all fields in a table. A full list of variable short names can be found in [catalog](https://cmap.readthedocs.io/en/latest/user_guide/API_ref/pycmap_api/pycmap_catalog.html#getcatalog).\n",
    ">> <br />\n",
    ">> <br />**dt1: string**\n",
    ">>  <br />Start date or datetime. This parameter sets the lower bound of the temporal cut. <br />Example values: '2016-05-25' or '2017-12-10 17:25:00'\n",
    ">> <br />\n",
    ">> <br />**dt2: string**\n",
    ">>  <br />End date or datetime. This parameter sets the upper bound of the temporal cut. \n",
    ">> <br />\n",
    ">> <br />**lat1: float**\n",
    ">>  <br />Start latitude [degree N]. This parameter sets the lower bound of the meridional cut. Note latitude ranges from -90&deg; to 90&deg;.\n",
    ">> <br />\n",
    ">> <br />**lat2: float**\n",
    ">>  <br />End latitude [degree N]. This parameter sets the upper bound of the meridional cut. Note latitude ranges from -90&deg; to 90&deg;.\n",
    ">> <br />\n",
    ">> <br />**lon1: float**\n",
    ">>  <br />Start longitude [degree E]. This parameter sets the lower bound of the zonal cut. Note longitue ranges from -180&deg; to 180&deg;.\n",
    ">> <br />\n",
    ">> <br />**lon2: float**\n",
    ">>  <br />End longitude [degree E]. This parameter sets the upper bound of the zonal cut. Note longitue ranges from -180&deg; to 180&deg;.\n",
    ">> <br />\n",
    ">> <br />**depth1: float**\n",
    ">>  <br />Start depth [m]. This parameter sets the lower bound of the vertical cut. Note depth is a positive number (it is 0 at surface and grows towards ocean floor).\n",
    ">> <br />\n",
    ">> <br />**depth2: float**\n",
    ">>  <br />End depth [m]. This parameter sets the upper bound of the vertical cut. Note depth is a positive number (it is 0 at surface and grows towards ocean floor).\n",
    "\n",
    "\n",
    ">**Returns:** \n",
    ">>  Pandas dataframe.\n"
   ]
  },
  {
   "cell_type": "markdown",
   "metadata": {},
   "source": [
    "### Example:\n",
    "This example retrieves a subset of in-situ salinity measurements by [Argo floats](https://cmap.readthedocs.io/en/latest/catalog/datasets/Argo.html#argo)."
   ]
  },
  {
   "cell_type": "code",
   "execution_count": null,
   "metadata": {},
   "outputs": [],
   "source": [
    "api.space_time(\n",
    "              table='tblArgoMerge_REP', \n",
    "              variable='argo_merge_salinity_adj', \n",
    "              dt1='2015-05-01', \n",
    "              dt2='2015-05-30', \n",
    "              lat1=28, \n",
    "              lat2=38, \n",
    "              lon1=-71, \n",
    "              lon2=-50, \n",
    "              depth1=0, \n",
    "              depth2=100\n",
    "              ) "
   ]
  },
  {
   "cell_type": "markdown",
   "metadata": {},
   "source": [
    "<a class=\"anchor\" id=\"query\"></a>\n",
    "<a href=\"#toc\" style=\"float: right;\">Table of Contents</a>\n",
    "## [*query(query)*](https://cmap.readthedocs.io/en/latest/user_guide/API_ref/pycmap_api/pycmap_query.html#query)\n",
    "<br />Simons CMAP datasets are hosted in a SQL database and pycmap package provides the user with a number of pre-developed methods to extract and retrieve subsets of the data. The rest of this documentation is dedicated to explore and explain these methods. In addition to the pre-developed methods, we intend to leave the database open to custom scan queries for interested users. This method takes a custom SQL query statement and returns the results in form of a Pandas dataframe. The full list of table names and variable names (fields) can be obtained using the [get_catalog()](Catalog.ipynb) method. In fact, one may use this very method to retrieve the table and field names: `query('EXEC uspCatalog')`. A Dataset is stored in a table and each table field represents a variable. All data tables have the following fields:\n",
    "\n",
    "* [time] [date or datetime] NOT NULL,\n",
    "* [lat] [float] NOT NULL,\n",
    "* [lon] [float] NOT NULL,\n",
    "* [depth] [float] NOT NULL,\n",
    "\n",
    "### Note:\n",
    "Tables which represent a climatological dataset, such as 'tblDarwin_Nutrient_Climatology', will not have a 'time' field. Also, if a table represents a surface dataset, such as satellite products, there would be no 'depth' field. 'depth' is a positive number in meters unit; it is zero at the surface growing towards the ocean's floor. 'lat' and 'lon' are in degrees units, ranging from -90&deg; to 90&deg; and -180&deg; to 180&deg;, respectively.\n",
    "\n",
    "<br />Please keep in mind that some of the datasets are massive in size (10s of TB), avoid queries without WHERE clause (`SELECT * FROM TABLENAME`). Always try to add some constraints on time, lat, lon, and depth fields (see the basic examples below). \n",
    "\n",
    "<br/>Moreover, the database hosts a wide range of predefined stored procedures and functions to streamline nearly all CMAP data services. For instance retrieving the catalog information is achieved using a single call of this procedure: *uspCatalog*. These predefined procedures can be called using the pycmap package (see example below). Alternatively, one may use any SQL client to execute these procedures to retrieve and visualize data (examples: [Azure Data Studio](https://docs.microsoft.com/en-us/sql/azure-data-studio/download?view=sql-server-ver15), or [Plotly Falcon](https://plot.ly/free-sql-client-download/)). Using the predefined procedures all CMAP data services are centralized at the database layer which dramatically facilitates the process of developing apps with different programming languages (pycmap, web app, cmap4r, ...). Please note that you can improve the current procedures or add new procedures by contributing at the [CMAP database repository](https://github.com/simonscmap/DB). \n",
    "Below is a selected list of stored procedures and functions, their arguments will be described in more details subsequently:\n",
    "\n",
    "\n",
    "\n",
    "* uspCatalog\n",
    "* uspSpaceTime\n",
    "* uspTimeSeries\n",
    "* uspDepthProfile\n",
    "* uspSectionMap\n",
    "* uspCruises\n",
    "* uspCruiseByName\n",
    "* uspCruiseBounds\n",
    "* uspWeekly\n",
    "* uspMonthly\n",
    "* uspQuarterly\n",
    "* uspAnnual\n",
    "* uspMatch\n",
    "* udfDatasetReferences\n",
    "* udfMetaData_NoRef\n",
    "\n",
    "\n",
    "\n",
    "\n",
    "\n",
    "<br />Happy SQL Injection!\n",
    "<br />\n",
    "<br />\n",
    "<br />"
   ]
  },
  {
   "cell_type": "markdown",
   "metadata": {},
   "source": [
    "### Example:\n",
    "A sample stored procedure returning the list of all cruises hosted by Simons CMAP."
   ]
  },
  {
   "cell_type": "code",
   "execution_count": null,
   "metadata": {},
   "outputs": [],
   "source": [
    "api.query('EXEC uspCruises')"
   ]
  },
  {
   "cell_type": "markdown",
   "metadata": {},
   "source": [
    "### Example:\n",
    "A sample query returning the timeseries of sea surface temperature (sst)."
   ]
  },
  {
   "cell_type": "code",
   "execution_count": null,
   "metadata": {},
   "outputs": [],
   "source": [
    "api.query(\n",
    "         '''\n",
    "         SELECT [time], AVG(lat) AS lat, AVG(lon) AS lon, AVG(sst) AS sst FROM tblsst_AVHRR_OI_NRT\n",
    "         WHERE\n",
    "         [time] BETWEEN '2016-06-01' AND '2016-10-01' AND\n",
    "         lat BETWEEN 23 AND 24 AND\n",
    "         lon BETWEEN -160 AND -158\n",
    "         GROUP BY [time]\n",
    "         ORDER BY [time]\n",
    "         '''\n",
    "         )"
   ]
  }
 ],
 "metadata": {
  "kernelspec": {
   "display_name": "Python 3",
   "language": "python",
   "name": "python3"
  },
  "language_info": {
   "codemirror_mode": {
    "name": "ipython",
    "version": 3
   },
   "file_extension": ".py",
   "mimetype": "text/x-python",
   "name": "python",
   "nbconvert_exporter": "python",
   "pygments_lexer": "ipython3",
   "version": "3.7.4"
  }
 },
 "nbformat": 4,
 "nbformat_minor": 4
}
