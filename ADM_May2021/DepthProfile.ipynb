{
 "cells": [
  {
   "cell_type": "markdown",
   "metadata": {},
   "source": [
    "<a href=\"https://colab.research.google.com/github/simonscmap/Workshops/blob/master/ADM_May2021/DepthProfile.ipynb\"><img align=\"left\" src=\"https://colab.research.google.com/assets/colab-badge.svg\" alt=\"Open in Colab\" title=\"Open and Execute in Google Colaboratory\"></a>\n",
    "<a href=\"https://mybinder.org/v2/gh/simonscmap/Workshops/master?filepath=ADM_May2021%2FDepthProfile.ipynb\"><img align=\"right\" src=\"https://mybinder.org/badge_logo.svg\" alt=\"Open in Binder\" title=\"Open and Execute in Binder\"></a>"
   ]
  },
  {
   "cell_type": "markdown",
   "metadata": {},
   "source": [
    "## *depth_profile(table, variable, dt1, dt2, lat1, lat2, lon1, lon2, depth1, depth2)*\n",
    "\n",
    "Returns a subset of data according to the specified space-time constraints (dt1, dt2, lat1, lat2, lon1, lon2, depth1, depth2). The returned data subset is aggregated by depth: at each depth level the mean and standard deviation of the variable values within the space-time constraints are computed. The sequence of these values construct the depth profile. The resulted depth profile is returned in form of a Pandas datframe sorted by depth."
   ]
  },
  {
   "cell_type": "markdown",
   "metadata": {},
   "source": [
    "> **Parameters:** \n",
    ">> **table: string**\n",
    ">>  <br />Table name (each dataset is stored in a table). A full list of table names can be found in [catalog](https://simonscmap.com/catalog).\n",
    ">> <br />\n",
    ">> <br />**variable: string**\n",
    ">>  <br />Variable short name which directly corresponds to a field name in the table. A subset of this variable is returned by this method according to the spatio-temporal cut parameters (below). A full list of variable short names can be found in [catalog](https://simonscmap.com/catalog).\n",
    ">> <br />\n",
    ">> <br />**dt1: string**\n",
    ">>  <br />Start date or datetime. This parameter sets the lower bound of the temporal cut. <br />Example values: '2016-05-25' or '2017-12-10 17:25:00'\n",
    ">> <br />\n",
    ">> <br />**dt2: string**\n",
    ">>  <br />End date or datetime. This parameter sets the upper bound of the temporal cut. \n",
    ">> <br />\n",
    ">> <br />**lat1: float**\n",
    ">>  <br />Start latitude [degree N]. This parameter sets the lower bound of the meridional cut. Note latitude ranges from -90&deg; to 90&deg;.\n",
    ">> <br />\n",
    ">> <br />**lat2: float**\n",
    ">>  <br />End latitude [degree N]. This parameter sets the upper bound of the meridional cut. Note latitude ranges from -90&deg; to 90&deg;.\n",
    ">> <br />\n",
    ">> <br />**lon1: float**\n",
    ">>  <br />Start longitude [degree E]. This parameter sets the lower bound of the zonal cut. Note latitude ranges from -180&deg; to 180&deg;.\n",
    ">> <br />\n",
    ">> <br />**lon2: float**\n",
    ">>  <br />End longitude [degree E]. This parameter sets the upper bound of the zonal cut. Note latitude ranges from -180&deg; to 180&deg;.\n",
    ">> <br />\n",
    ">> <br />**depth1: float**\n",
    ">>  <br />Start depth [m]. This parameter sets the lower bound of the vertical cut. Note depth is a positive number (it is 0 at surface and grows towards ocean floor).\n",
    ">> <br />\n",
    ">> <br />**depth2: float**\n",
    ">>  <br />End depth [m]. This parameter sets the upper bound of the vertical cut. Note depth is a positive number (it is 0 at surface and grows towards ocean floor).\n",
    "\n",
    "\n",
    ">**Returns:** \n",
    ">>  Pandas dataframe.\n"
   ]
  },
  {
   "cell_type": "markdown",
   "metadata": {},
   "source": [
    "<br/><br/>\n",
    "### Depth Profile Example \n",
    "<br/>\n",
    "\n",
    "This example retrieves depth profile of in-situ chlorophyll concentration measurements by [Argo Floats](https://simonscmap.com/catalog/datasets/Argo_BGC_REP). The last few lines of code (lines 26-30) creates a simple plot showing the chlorophyll depth profile (deep chlorophyll maximum near 100 m)."
   ]
  },
  {
   "cell_type": "code",
   "execution_count": null,
   "metadata": {},
   "outputs": [],
   "source": [
    "!pip install pycmap     #install pycmap and its dependencies"
   ]
  },
  {
   "cell_type": "code",
   "execution_count": 2,
   "metadata": {},
   "outputs": [
    {
     "name": "stdout",
     "output_type": "stream",
     "text": [
      "\n",
      "\n",
      "Deep Chlorophyll Maximum (DCM) level: 109.73 [m]\n",
      "\n",
      "\n",
      "\n"
     ]
    },
    {
     "data": {
      "image/png": "[encoded data removed]",
      "text/plain": [
       "<Figure size 300x500 with 1 Axes>"
      ]
     },
     "metadata": {
      "needs_background": "light"
     },
     "output_type": "display_data"
    }
   ],
   "source": [
    "import matplotlib.pyplot as plt\n",
    "import pycmap\n",
    "\n",
    "\n",
    "\n",
    "def simple_plot(df):\n",
    "  %matplotlib inline\n",
    "  plt.figure(figsize=(3, 5), dpi=100)\n",
    "  plt.plot(df[variable], df['depth'], 'ob', markeredgewidth=0, alpha=0.5)\n",
    "  plt.tick_params(axis='x', top=True, labeltop=True, bottom=False, labelbottom=False, direction='in')\n",
    "  plt.tick_params(axis='y', direction='in')\n",
    "  plt.ylabel('Depth [m]', fontsize=12)\n",
    "  plt.gca().invert_yaxis()\n",
    "  plt.title(api.get_var_long_name(table, variable) + api.get_unit(table, variable), fontsize=12)\n",
    "  plt.show()\n",
    "\n",
    "\n",
    "\n",
    "\n",
    "\n",
    "api = pycmap.API(token='public')\n",
    "table, variable = 'tblArgoMerge_REP', 'argo_merge_chl_adj'\n",
    "#table, variable = 'tblPisces_NRT', 'CHL'\n",
    "#table, variable = 'tblDarwin_Ecosystem', 'CHL'\n",
    "df = api.depth_profile(\n",
    "                      table=table, \n",
    "                      variable=variable, \n",
    "                      dt1='2016-04-30', \n",
    "                      dt2='2016-04-30', \n",
    "                      lat1=20, \n",
    "                      lat2=24, \n",
    "                      lon1=-170, \n",
    "                      lon2=-150, \n",
    "                      depth1=0, \n",
    "                      depth2=1500\n",
    "                      ) \n",
    "\n",
    "\n",
    "\n",
    "\n",
    "if len(df)<1: \n",
    "  print(\"No data found.\")\n",
    "else:\n",
    "  DCM = df['depth'].iloc[df[variable].idxmax()]\n",
    "  print(f\"\\n\\nDeep Chlorophyll Maximum (DCM) level: {DCM:2.2f} [m]\\n\\n\\n\")  \n",
    "  simple_plot(df)"
   ]
  }
 ],
 "metadata": {
  "kernelspec": {
   "display_name": "Python 3",
   "language": "python",
   "name": "python3"
  },
  "language_info": {
   "codemirror_mode": {
    "name": "ipython",
    "version": 3
   },
   "file_extension": ".py",
   "mimetype": "text/x-python",
   "name": "python",
   "nbconvert_exporter": "python",
   "pygments_lexer": "ipython3",
   "version": "3.8.3"
  }
 },
 "nbformat": 4,
 "nbformat_minor": 4
}
